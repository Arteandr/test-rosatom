{
 "cells": [
  {
   "cell_type": "code",
   "execution_count": 2,
   "metadata": {},
   "outputs": [
    {
     "data": {
      "text/plain": [
       "device(type='cuda', index=0)"
      ]
     },
     "execution_count": 2,
     "metadata": {},
     "output_type": "execute_result"
    }
   ],
   "source": [
    "import pandas as pd\n",
    "from catboost import Pool, CatBoostClassifier\n",
    "import numpy as np\n",
    "import seaborn as sns\n",
    "import matplotlib.pyplot as plt\n",
    "\n",
    "import torch\n",
    "device = torch.device(\"cuda:0\" if torch.cuda.is_available() else \"cpu\")\n",
    "device"
   ]
  },
  {
   "cell_type": "code",
   "execution_count": 3,
   "metadata": {},
   "outputs": [],
   "source": [
    "%matplotlib inline\n",
    "sns.set(style='whitegrid', palette='muted', font_scale=1.2)\n",
    "\n",
    "HAPPY_COLORS_PALETTE = [\"#01BEFE\", \"#FFDD00\", \"#FF7D00\", \"#FF006D\", \"#ADFF02\", \"#8F00FF\"]\n",
    "\n",
    "sns.set_palette(sns.color_palette(HAPPY_COLORS_PALETTE))"
   ]
  },
  {
   "cell_type": "code",
   "execution_count": 64,
   "metadata": {},
   "outputs": [],
   "source": [
    "train_data = pd.read_csv(\"../datasets/train_with_embeddings.csv\")\n",
    "test_data = pd.read_csv(\"../datasets/test_with_embeddings.csv\")"
   ]
  },
  {
   "cell_type": "code",
   "execution_count": 9,
   "metadata": {},
   "outputs": [
    {
     "data": {
      "text/html": [
       "<div>\n",
       "<style scoped>\n",
       "    .dataframe tbody tr th:only-of-type {\n",
       "        vertical-align: middle;\n",
       "    }\n",
       "\n",
       "    .dataframe tbody tr th {\n",
       "        vertical-align: top;\n",
       "    }\n",
       "\n",
       "    .dataframe thead th {\n",
       "        text-align: right;\n",
       "    }\n",
       "</style>\n",
       "<table border=\"1\" class=\"dataframe\">\n",
       "  <thead>\n",
       "    <tr style=\"text-align: right;\">\n",
       "      <th></th>\n",
       "      <th>text</th>\n",
       "      <th>label</th>\n",
       "      <th>ratings</th>\n",
       "      <th>clean_text</th>\n",
       "      <th>text_embedding</th>\n",
       "    </tr>\n",
       "  </thead>\n",
       "  <tbody>\n",
       "    <tr>\n",
       "      <th>0</th>\n",
       "      <td>Bromwell High is a cartoon comedy. It ran at t...</td>\n",
       "      <td>1</td>\n",
       "      <td>9</td>\n",
       "      <td>bromwell high is a cartoon comedy it ran at th...</td>\n",
       "      <td>[0.8779181241989136, 0.3795791566371918, -0.15...</td>\n",
       "    </tr>\n",
       "    <tr>\n",
       "      <th>1</th>\n",
       "      <td>Homelessness (or Houselessness as George Carli...</td>\n",
       "      <td>1</td>\n",
       "      <td>8</td>\n",
       "      <td>homelessness or houselessness a george carlin ...</td>\n",
       "      <td>[0.7185903787612915, 0.16849711537361145, -0.4...</td>\n",
       "    </tr>\n",
       "    <tr>\n",
       "      <th>2</th>\n",
       "      <td>Brilliant over-acting by Lesley Ann Warren. Be...</td>\n",
       "      <td>1</td>\n",
       "      <td>10</td>\n",
       "      <td>brilliant overacting by lesley ann warren best...</td>\n",
       "      <td>[1.2952933311462402, -0.03307562321424484, -0....</td>\n",
       "    </tr>\n",
       "    <tr>\n",
       "      <th>3</th>\n",
       "      <td>This is easily the most underrated film inn th...</td>\n",
       "      <td>1</td>\n",
       "      <td>7</td>\n",
       "      <td>this is easily the most underrated film inn th...</td>\n",
       "      <td>[0.7549100518226624, 1.3669123649597168, -0.31...</td>\n",
       "    </tr>\n",
       "    <tr>\n",
       "      <th>4</th>\n",
       "      <td>This is not the typical Mel Brooks film. It wa...</td>\n",
       "      <td>1</td>\n",
       "      <td>8</td>\n",
       "      <td>this is not the typical mel brook film it wa m...</td>\n",
       "      <td>[0.5853791236877441, 0.4199213683605194, -1.60...</td>\n",
       "    </tr>\n",
       "  </tbody>\n",
       "</table>\n",
       "</div>"
      ],
      "text/plain": [
       "                                                text  label  ratings  \\\n",
       "0  Bromwell High is a cartoon comedy. It ran at t...      1        9   \n",
       "1  Homelessness (or Houselessness as George Carli...      1        8   \n",
       "2  Brilliant over-acting by Lesley Ann Warren. Be...      1       10   \n",
       "3  This is easily the most underrated film inn th...      1        7   \n",
       "4  This is not the typical Mel Brooks film. It wa...      1        8   \n",
       "\n",
       "                                          clean_text  \\\n",
       "0  bromwell high is a cartoon comedy it ran at th...   \n",
       "1  homelessness or houselessness a george carlin ...   \n",
       "2  brilliant overacting by lesley ann warren best...   \n",
       "3  this is easily the most underrated film inn th...   \n",
       "4  this is not the typical mel brook film it wa m...   \n",
       "\n",
       "                                      text_embedding  \n",
       "0  [0.8779181241989136, 0.3795791566371918, -0.15...  \n",
       "1  [0.7185903787612915, 0.16849711537361145, -0.4...  \n",
       "2  [1.2952933311462402, -0.03307562321424484, -0....  \n",
       "3  [0.7549100518226624, 1.3669123649597168, -0.31...  \n",
       "4  [0.5853791236877441, 0.4199213683605194, -1.60...  "
      ]
     },
     "execution_count": 9,
     "metadata": {},
     "output_type": "execute_result"
    }
   ],
   "source": [
    "train_data.head()"
   ]
  },
  {
   "cell_type": "code",
   "execution_count": 33,
   "metadata": {},
   "outputs": [
    {
     "data": {
      "text/plain": [
       "<Axes: xlabel='label', ylabel='count'>"
      ]
     },
     "execution_count": 33,
     "metadata": {},
     "output_type": "execute_result"
    },
    {
     "data": {
      "image/png": "[encoded data removed]",
      "text/plain": [
       "<Figure size 640x480 with 1 Axes>"
      ]
     },
     "metadata": {},
     "output_type": "display_data"
    }
   ],
   "source": [
    "sns.countplot(data=train_data, x='label')"
   ]
  },
  {
   "cell_type": "code",
   "execution_count": 17,
   "metadata": {},
   "outputs": [
    {
     "data": {
      "text/plain": [
       "<Axes: xlabel='label', ylabel='ratings'>"
      ]
     },
     "execution_count": 17,
     "metadata": {},
     "output_type": "execute_result"
    },
    {
     "data": {
      "image/png": "[encoded data removed]",
      "text/plain": [
       "<Figure size 640x480 with 1 Axes>"
      ]
     },
     "metadata": {},
     "output_type": "display_data"
    }
   ],
   "source": [
    "sns.boxplot(x='label', y='ratings', data=train_data)"
   ]
  },
  {
   "cell_type": "code",
   "execution_count": 31,
   "metadata": {},
   "outputs": [
    {
     "data": {
      "text/html": [
       "<div>\n",
       "<style scoped>\n",
       "    .dataframe tbody tr th:only-of-type {\n",
       "        vertical-align: middle;\n",
       "    }\n",
       "\n",
       "    .dataframe tbody tr th {\n",
       "        vertical-align: top;\n",
       "    }\n",
       "\n",
       "    .dataframe thead th {\n",
       "        text-align: right;\n",
       "    }\n",
       "</style>\n",
       "<table border=\"1\" class=\"dataframe\">\n",
       "  <thead>\n",
       "    <tr style=\"text-align: right;\">\n",
       "      <th></th>\n",
       "      <th>text</th>\n",
       "      <th>label</th>\n",
       "      <th>ratings</th>\n",
       "      <th>clean_text</th>\n",
       "      <th>text_embedding</th>\n",
       "      <th>text_legnth</th>\n",
       "      <th>text_length</th>\n",
       "    </tr>\n",
       "  </thead>\n",
       "  <tbody>\n",
       "    <tr>\n",
       "      <th>0</th>\n",
       "      <td>Bromwell High is a cartoon comedy. It ran at t...</td>\n",
       "      <td>1</td>\n",
       "      <td>9</td>\n",
       "      <td>bromwell high is a cartoon comedy it ran at th...</td>\n",
       "      <td>[0.8779181241989136, 0.3795791566371918, -0.15...</td>\n",
       "      <td>806</td>\n",
       "      <td>806</td>\n",
       "    </tr>\n",
       "    <tr>\n",
       "      <th>1</th>\n",
       "      <td>Homelessness (or Houselessness as George Carli...</td>\n",
       "      <td>1</td>\n",
       "      <td>8</td>\n",
       "      <td>homelessness or houselessness a george carlin ...</td>\n",
       "      <td>[0.7185903787612915, 0.16849711537361145, -0.4...</td>\n",
       "      <td>2366</td>\n",
       "      <td>2366</td>\n",
       "    </tr>\n",
       "    <tr>\n",
       "      <th>2</th>\n",
       "      <td>Brilliant over-acting by Lesley Ann Warren. Be...</td>\n",
       "      <td>1</td>\n",
       "      <td>10</td>\n",
       "      <td>brilliant overacting by lesley ann warren best...</td>\n",
       "      <td>[1.2952933311462402, -0.03307562321424484, -0....</td>\n",
       "      <td>841</td>\n",
       "      <td>841</td>\n",
       "    </tr>\n",
       "    <tr>\n",
       "      <th>3</th>\n",
       "      <td>This is easily the most underrated film inn th...</td>\n",
       "      <td>1</td>\n",
       "      <td>7</td>\n",
       "      <td>this is easily the most underrated film inn th...</td>\n",
       "      <td>[0.7549100518226624, 1.3669123649597168, -0.31...</td>\n",
       "      <td>663</td>\n",
       "      <td>663</td>\n",
       "    </tr>\n",
       "    <tr>\n",
       "      <th>4</th>\n",
       "      <td>This is not the typical Mel Brooks film. It wa...</td>\n",
       "      <td>1</td>\n",
       "      <td>8</td>\n",
       "      <td>this is not the typical mel brook film it wa m...</td>\n",
       "      <td>[0.5853791236877441, 0.4199213683605194, -1.60...</td>\n",
       "      <td>647</td>\n",
       "      <td>647</td>\n",
       "    </tr>\n",
       "  </tbody>\n",
       "</table>\n",
       "</div>"
      ],
      "text/plain": [
       "                                                text  label  ratings  \\\n",
       "0  Bromwell High is a cartoon comedy. It ran at t...      1        9   \n",
       "1  Homelessness (or Houselessness as George Carli...      1        8   \n",
       "2  Brilliant over-acting by Lesley Ann Warren. Be...      1       10   \n",
       "3  This is easily the most underrated film inn th...      1        7   \n",
       "4  This is not the typical Mel Brooks film. It wa...      1        8   \n",
       "\n",
       "                                          clean_text  \\\n",
       "0  bromwell high is a cartoon comedy it ran at th...   \n",
       "1  homelessness or houselessness a george carlin ...   \n",
       "2  brilliant overacting by lesley ann warren best...   \n",
       "3  this is easily the most underrated film inn th...   \n",
       "4  this is not the typical mel brook film it wa m...   \n",
       "\n",
       "                                      text_embedding  text_legnth  text_length  \n",
       "0  [0.8779181241989136, 0.3795791566371918, -0.15...          806          806  \n",
       "1  [0.7185903787612915, 0.16849711537361145, -0.4...         2366         2366  \n",
       "2  [1.2952933311462402, -0.03307562321424484, -0....          841          841  \n",
       "3  [0.7549100518226624, 1.3669123649597168, -0.31...          663          663  \n",
       "4  [0.5853791236877441, 0.4199213683605194, -1.60...          647          647  "
      ]
     },
     "execution_count": 31,
     "metadata": {},
     "output_type": "execute_result"
    }
   ],
   "source": [
    "train_data['text_length'] = train_data['text'].apply(lambda x: len(x)) # length of the text\n",
    "train_data.head()"
   ]
  },
  {
   "cell_type": "code",
   "execution_count": 37,
   "metadata": {},
   "outputs": [
    {
     "data": {
      "text/plain": [
       "<Axes: xlabel='label', ylabel='text_length'>"
      ]
     },
     "execution_count": 37,
     "metadata": {},
     "output_type": "execute_result"
    },
    {
     "data": {
      "image/png": "[encoded data removed]",
      "text/plain": [
       "<Figure size 640x480 with 1 Axes>"
      ]
     },
     "metadata": {},
     "output_type": "display_data"
    }
   ],
   "source": [
    "sns.violinplot(x='label', y='text_length', data=train_data)"
   ]
  },
  {
   "cell_type": "code",
   "execution_count": 39,
   "metadata": {},
   "outputs": [
    {
     "name": "stderr",
     "output_type": "stream",
     "text": [
      "c:\\Users\\hwndr\\miniconda3\\envs\\ml\\Lib\\site-packages\\seaborn\\_oldcore.py:1119: FutureWarning: use_inf_as_na option is deprecated and will be removed in a future version. Convert inf values to NaN before operating instead.\n",
      "  with pd.option_context('mode.use_inf_as_na', True):\n",
      "c:\\Users\\hwndr\\miniconda3\\envs\\ml\\Lib\\site-packages\\seaborn\\_oldcore.py:1119: FutureWarning: use_inf_as_na option is deprecated and will be removed in a future version. Convert inf values to NaN before operating instead.\n",
      "  with pd.option_context('mode.use_inf_as_na', True):\n",
      "c:\\Users\\hwndr\\miniconda3\\envs\\ml\\Lib\\site-packages\\seaborn\\_oldcore.py:1075: FutureWarning: When grouping with a length-1 list-like, you will need to pass a length-1 tuple to get_group in a future version of pandas. Pass `(name,)` instead of `name` to silence this warning.\n",
      "  data_subset = grouped_data.get_group(pd_key)\n"
     ]
    },
    {
     "data": {
      "text/plain": [
       "Text(0, 0.5, 'text Length')"
      ]
     },
     "execution_count": 39,
     "metadata": {},
     "output_type": "execute_result"
    },
    {
     "data": {
      "image/png": "[encoded data removed]",
      "text/plain": [
       "<Figure size 640x480 with 1 Axes>"
      ]
     },
     "metadata": {},
     "output_type": "display_data"
    }
   ],
   "source": [
    "sns.stripplot(x='label', y='text_length', data=train_data, jitter=True)\n",
    "plt.xlabel('sentiment')\n",
    "plt.ylabel('text Length')"
   ]
  },
  {
   "cell_type": "code",
   "execution_count": 5,
   "metadata": {},
   "outputs": [],
   "source": [
    "import ast\n",
    "def convert_embedding(embedding_str):\n",
    "    return np.array(ast.literal_eval(embedding_str))"
   ]
  },
  {
   "cell_type": "code",
   "execution_count": 65,
   "metadata": {},
   "outputs": [],
   "source": [
    "train_data['text_embedding'] = train_data['text_embedding'].apply(convert_embedding)\n",
    "test_data['text_embedding'] = test_data['text_embedding'].apply(convert_embedding)"
   ]
  },
  {
   "cell_type": "code",
   "execution_count": 66,
   "metadata": {},
   "outputs": [
    {
     "data": {
      "text/html": [
       "<div>\n",
       "<style scoped>\n",
       "    .dataframe tbody tr th:only-of-type {\n",
       "        vertical-align: middle;\n",
       "    }\n",
       "\n",
       "    .dataframe tbody tr th {\n",
       "        vertical-align: top;\n",
       "    }\n",
       "\n",
       "    .dataframe thead th {\n",
       "        text-align: right;\n",
       "    }\n",
       "</style>\n",
       "<table border=\"1\" class=\"dataframe\">\n",
       "  <thead>\n",
       "    <tr style=\"text-align: right;\">\n",
       "      <th></th>\n",
       "      <th>text</th>\n",
       "      <th>label</th>\n",
       "      <th>ratings</th>\n",
       "      <th>clean_text</th>\n",
       "      <th>text_embedding</th>\n",
       "    </tr>\n",
       "  </thead>\n",
       "  <tbody>\n",
       "    <tr>\n",
       "      <th>0</th>\n",
       "      <td>Bromwell High is a cartoon comedy. It ran at t...</td>\n",
       "      <td>1</td>\n",
       "      <td>9</td>\n",
       "      <td>bromwell high is a cartoon comedy it ran at th...</td>\n",
       "      <td>[0.8779181241989136, 0.3795791566371918, -0.15...</td>\n",
       "    </tr>\n",
       "    <tr>\n",
       "      <th>1</th>\n",
       "      <td>Homelessness (or Houselessness as George Carli...</td>\n",
       "      <td>1</td>\n",
       "      <td>8</td>\n",
       "      <td>homelessness or houselessness a george carlin ...</td>\n",
       "      <td>[0.7185903787612915, 0.16849711537361145, -0.4...</td>\n",
       "    </tr>\n",
       "    <tr>\n",
       "      <th>2</th>\n",
       "      <td>Brilliant over-acting by Lesley Ann Warren. Be...</td>\n",
       "      <td>1</td>\n",
       "      <td>10</td>\n",
       "      <td>brilliant overacting by lesley ann warren best...</td>\n",
       "      <td>[1.2952933311462402, -0.03307562321424484, -0....</td>\n",
       "    </tr>\n",
       "    <tr>\n",
       "      <th>3</th>\n",
       "      <td>This is easily the most underrated film inn th...</td>\n",
       "      <td>1</td>\n",
       "      <td>7</td>\n",
       "      <td>this is easily the most underrated film inn th...</td>\n",
       "      <td>[0.7549100518226624, 1.3669123649597168, -0.31...</td>\n",
       "    </tr>\n",
       "    <tr>\n",
       "      <th>4</th>\n",
       "      <td>This is not the typical Mel Brooks film. It wa...</td>\n",
       "      <td>1</td>\n",
       "      <td>8</td>\n",
       "      <td>this is not the typical mel brook film it wa m...</td>\n",
       "      <td>[0.5853791236877441, 0.4199213683605194, -1.60...</td>\n",
       "    </tr>\n",
       "  </tbody>\n",
       "</table>\n",
       "</div>"
      ],
      "text/plain": [
       "                                                text  label  ratings  \\\n",
       "0  Bromwell High is a cartoon comedy. It ran at t...      1        9   \n",
       "1  Homelessness (or Houselessness as George Carli...      1        8   \n",
       "2  Brilliant over-acting by Lesley Ann Warren. Be...      1       10   \n",
       "3  This is easily the most underrated film inn th...      1        7   \n",
       "4  This is not the typical Mel Brooks film. It wa...      1        8   \n",
       "\n",
       "                                          clean_text  \\\n",
       "0  bromwell high is a cartoon comedy it ran at th...   \n",
       "1  homelessness or houselessness a george carlin ...   \n",
       "2  brilliant overacting by lesley ann warren best...   \n",
       "3  this is easily the most underrated film inn th...   \n",
       "4  this is not the typical mel brook film it wa m...   \n",
       "\n",
       "                                      text_embedding  \n",
       "0  [0.8779181241989136, 0.3795791566371918, -0.15...  \n",
       "1  [0.7185903787612915, 0.16849711537361145, -0.4...  \n",
       "2  [1.2952933311462402, -0.03307562321424484, -0....  \n",
       "3  [0.7549100518226624, 1.3669123649597168, -0.31...  \n",
       "4  [0.5853791236877441, 0.4199213683605194, -1.60...  "
      ]
     },
     "execution_count": 66,
     "metadata": {},
     "output_type": "execute_result"
    }
   ],
   "source": [
    "train_data.head()"
   ]
  },
  {
   "cell_type": "code",
   "execution_count": 73,
   "metadata": {},
   "outputs": [],
   "source": [
    "train_embeddings = np.array(train_data['text_embedding'].tolist())\n",
    "test_embeddings = np.array(test_data['text_embedding'].tolist())"
   ]
  },
  {
   "cell_type": "code",
   "execution_count": 74,
   "metadata": {},
   "outputs": [],
   "source": [
    "train_pool = Pool(train_embeddings, train_data['label'])"
   ]
  },
  {
   "cell_type": "code",
   "execution_count": 75,
   "metadata": {},
   "outputs": [],
   "source": [
    "clf = CatBoostClassifier(task_type='GPU', \n",
    "                         devices='0', \n",
    "                         loss_function='Logloss',\n",
    "                         iterations=500,\n",
    "                         learning_rate=0.1,\n",
    "                         depth=6,\n",
    "                         eval_metric='AUC',\n",
    "                         verbose=100,\n",
    "                         random_seed=42)"
   ]
  },
  {
   "cell_type": "code",
   "execution_count": 76,
   "metadata": {},
   "outputs": [
    {
     "data": {
      "application/vnd.jupyter.widget-view+json": {
       "model_id": "3b699133d5464978b49669ad89d1fa8c",
       "version_major": 2,
       "version_minor": 0
      },
      "text/plain": [
       "MetricVisualizer(layout=Layout(align_self='stretch', height='500px'))"
      ]
     },
     "metadata": {},
     "output_type": "display_data"
    },
    {
     "name": "stderr",
     "output_type": "stream",
     "text": [
      "Default metric period is 5 because AUC is/are not implemented for GPU\n"
     ]
    },
    {
     "name": "stdout",
     "output_type": "stream",
     "text": [
      "0:\ttest: 0.8837945\tbest: 0.8837945 (0)\ttotal: 146ms\tremaining: 1m 12s\n",
      "100:\ttest: 0.9723405\tbest: 0.9723405 (100)\ttotal: 9.65s\tremaining: 38.1s\n",
      "200:\ttest: 0.9743395\tbest: 0.9743395 (200)\ttotal: 18.8s\tremaining: 28s\n",
      "300:\ttest: 0.9753341\tbest: 0.9753361 (295)\ttotal: 27.9s\tremaining: 18.4s\n",
      "400:\ttest: 0.9757165\tbest: 0.9757187 (395)\ttotal: 36.4s\tremaining: 8.98s\n",
      "499:\ttest: 0.9758016\tbest: 0.9758087 (475)\ttotal: 45s\tremaining: 0us\n",
      "bestTest = 0.9758087397\n",
      "bestIteration = 475\n",
      "Shrink model to first 476 iterations.\n"
     ]
    },
    {
     "data": {
      "text/plain": [
       "<catboost.core.CatBoostClassifier at 0x1b4ca9d14f0>"
      ]
     },
     "execution_count": 76,
     "metadata": {},
     "output_type": "execute_result"
    }
   ],
   "source": [
    "clf.fit(train_pool, eval_set=(test_embeddings, test_data['label']), plot=True)"
   ]
  },
  {
   "cell_type": "code",
   "execution_count": 77,
   "metadata": {},
   "outputs": [],
   "source": [
    "y_pred = clf.predict(test_embeddings)"
   ]
  },
  {
   "cell_type": "code",
   "execution_count": 79,
   "metadata": {},
   "outputs": [
    {
     "name": "stdout",
     "output_type": "stream",
     "text": [
      "              precision    recall  f1-score   support\n",
      "\n",
      "           0       0.94      0.91      0.92     12500\n",
      "           1       0.91      0.94      0.92     12500\n",
      "\n",
      "    accuracy                           0.92     25000\n",
      "   macro avg       0.92      0.92      0.92     25000\n",
      "weighted avg       0.92      0.92      0.92     25000\n",
      "\n"
     ]
    }
   ],
   "source": [
    "from sklearn.metrics import classification_report\n",
    "\n",
    "print(classification_report(test_data['label'], y_pred))"
   ]
  }
 ],
 "metadata": {
  "kernelspec": {
   "display_name": "ml",
   "language": "python",
   "name": "python3"
  },
  "language_info": {
   "codemirror_mode": {
    "name": "ipython",
    "version": 3
   },
   "file_extension": ".py",
   "mimetype": "text/x-python",
   "name": "python",
   "nbconvert_exporter": "python",
   "pygments_lexer": "ipython3",
   "version": "3.12.2"
  }
 },
 "nbformat": 4,
 "nbformat_minor": 2
}
